{
 "cells": [
  {
   "attachments": {},
   "cell_type": "markdown",
   "metadata": {},
   "source": [
    "# Collaboration and Competition\n",
    "\n",
    "---\n",
    "\n",
    "In this notebook, you will learn how to use the Unity ML-Agents environment for the third project of the [Deep Reinforcement Learning Nanodegree](https://www.udacity.com/course/deep-reinforcement-learning-nanodegree--nd893) program.\n",
    "\n",
    "### 1. Start the Environment\n",
    "\n",
    "We begin by importing the necessary packages.  If the code cell below returns an error, please revisit the project instructions to double-check that you have installed [Unity ML-Agents](https://github.com/Unity-Technologies/ml-agents/blob/master/docs/Installation.md) and [NumPy](http://www.numpy.org/)."
   ]
  },
  {
   "cell_type": "code",
   "execution_count": 1,
   "metadata": {},
   "outputs": [],
   "source": [
    "from unityagents import UnityEnvironment\n",
    "import numpy as np"
   ]
  },
  {
   "attachments": {},
   "cell_type": "markdown",
   "metadata": {},
   "source": [
    "Next, we will start the environment!  **_Before running the code cell below_**, change the `file_name` parameter to match the location of the Unity environment that you downloaded.\n",
    "\n",
    "- **Mac**: `\"path/to/Tennis.app\"`\n",
    "- **Windows** (x86): `\"path/to/Tennis_Windows_x86/Tennis.exe\"`\n",
    "- **Windows** (x86_64): `\"path/to/Tennis_Windows_x86_64/Tennis.exe\"`\n",
    "- **Linux** (x86): `\"path/to/Tennis_Linux/Tennis.x86\"`\n",
    "- **Linux** (x86_64): `\"path/to/Tennis_Linux/Tennis.x86_64\"`\n",
    "- **Linux** (x86, headless): `\"path/to/Tennis_Linux_NoVis/Tennis.x86\"`\n",
    "- **Linux** (x86_64, headless): `\"path/to/Tennis_Linux_NoVis/Tennis.x86_64\"`\n",
    "\n",
    "For instance, if you are using a Mac, then you downloaded `Tennis.app`.  If this file is in the same folder as the notebook, then the line below should appear as follows:\n",
    "```\n",
    "env = UnityEnvironment(file_name=\"Tennis.app\")\n",
    "```"
   ]
  },
  {
   "cell_type": "code",
   "execution_count": 2,
   "metadata": {},
   "outputs": [
    {
     "name": "stderr",
     "output_type": "stream",
     "text": [
      "INFO:unityagents:\n",
      "'Academy' started successfully!\n",
      "Unity Academy name: Academy\n",
      "        Number of Brains: 1\n",
      "        Number of External Brains : 1\n",
      "        Lesson number : 0\n",
      "        Reset Parameters :\n",
      "\t\t\n",
      "Unity brain name: TennisBrain\n",
      "        Number of Visual Observations (per agent): 0\n",
      "        Vector Observation space type: continuous\n",
      "        Vector Observation space size (per agent): 8\n",
      "        Number of stacked Vector Observation: 3\n",
      "        Vector Action space type: continuous\n",
      "        Vector Action space size (per agent): 2\n",
      "        Vector Action descriptions: , \n"
     ]
    },
    {
     "name": "stdout",
     "output_type": "stream",
     "text": [
      "Found path: /home/minhna4lab/minhna1112/study/RL/deep-reinforcement-learning/p3_collab-compet/Tennis_Linux_NoVis/Tennis.x86_64\n",
      "Mono path[0] = '/home/minhna4lab/minhna1112/study/RL/deep-reinforcement-learning/p3_collab-compet/Tennis_Linux_NoVis/Tennis_Data/Managed'\n",
      "Mono config path = '/home/minhna4lab/minhna1112/study/RL/deep-reinforcement-learning/p3_collab-compet/Tennis_Linux_NoVis/Tennis_Data/MonoBleedingEdge/etc'\n",
      "Preloaded 'libgrpc_csharp_ext.x64.so'\n",
      "Unable to preload the following plugins:\n",
      "\tlibgrpc_csharp_ext.x86.so\n",
      "Logging to /home/minhna4lab/.config/unity3d/Unity Technologies/Unity Environment/Player.log\n"
     ]
    }
   ],
   "source": [
    "env = UnityEnvironment(file_name=\"Tennis_Linux_NoVis/Tennis.x86_64\")"
   ]
  },
  {
   "attachments": {},
   "cell_type": "markdown",
   "metadata": {},
   "source": [
    "Environments contain **_brains_** which are responsible for deciding the actions of their associated agents. Here we check for the first brain available, and set it as the default brain we will be controlling from Python."
   ]
  },
  {
   "cell_type": "code",
   "execution_count": 3,
   "metadata": {},
   "outputs": [],
   "source": [
    "# get the default brain\n",
    "brain_name = env.brain_names[0]\n",
    "brain = env.brains[brain_name]"
   ]
  },
  {
   "cell_type": "code",
   "execution_count": 4,
   "metadata": {},
   "outputs": [
    {
     "data": {
      "text/plain": [
       "['TennisBrain']"
      ]
     },
     "execution_count": 4,
     "metadata": {},
     "output_type": "execute_result"
    }
   ],
   "source": [
    "env.brain_names"
   ]
  },
  {
   "attachments": {},
   "cell_type": "markdown",
   "metadata": {},
   "source": [
    "### 2. Examine the State and Action Spaces\n",
    "\n",
    "In this environment, two agents control rackets to bounce a ball over a net. If an agent hits the ball over the net, it receives a reward of +0.1.  If an agent lets a ball hit the ground or hits the ball out of bounds, it receives a reward of -0.01.  Thus, the goal of each agent is to keep the ball in play.\n",
    "\n",
    "The observation space consists of 8 variables corresponding to the position and velocity of the ball and racket. Two continuous actions are available, corresponding to movement toward (or away from) the net, and jumping. \n",
    "\n",
    "Run the code cell below to print some information about the environment."
   ]
  },
  {
   "cell_type": "code",
   "execution_count": 5,
   "metadata": {},
   "outputs": [
    {
     "name": "stdout",
     "output_type": "stream",
     "text": [
      "Number of agents: 2\n",
      "Size of each action: 2\n",
      "There are 2 agents. Each observes a state with length: 24\n",
      "The state for the first agent looks like: [ 0.          0.          0.          0.          0.          0.\n",
      "  0.          0.          0.          0.          0.          0.\n",
      "  0.          0.          0.          0.         -6.65278625 -1.5\n",
      " -0.          0.          6.83172083  6.         -0.          0.        ]\n"
     ]
    }
   ],
   "source": [
    "# reset the environment\n",
    "env_info = env.reset(train_mode=True)[brain_name]\n",
    "\n",
    "# number of agents \n",
    "num_agents = len(env_info.agents)\n",
    "print('Number of agents:', num_agents)\n",
    "\n",
    "# size of each action\n",
    "action_size = brain.vector_action_space_size\n",
    "print('Size of each action:', action_size)\n",
    "\n",
    "# examine the state space \n",
    "states = env_info.vector_observations # [2, 24]\n",
    "state_size = states.shape[1] # 24\n",
    "print('There are {} agents. Each observes a state with length: {}'.format(states.shape[0], state_size))\n",
    "print('The state for the first agent looks like:', states[0])"
   ]
  },
  {
   "attachments": {},
   "cell_type": "markdown",
   "metadata": {},
   "source": [
    "### 3. Take Random Actions in the Environment\n",
    "\n",
    "In the next code cell, you will learn how to use the Python API to control the agents and receive feedback from the environment.\n",
    "\n",
    "Once this cell is executed, you will watch the agents' performance, if they select actions at random with each time step.  A window should pop up that allows you to observe the agents.\n",
    "\n",
    "Of course, as part of the project, you'll have to change the code so that the agents are able to use their experiences to gradually choose better actions when interacting with the environment!"
   ]
  },
  {
   "cell_type": "code",
   "execution_count": 6,
   "metadata": {},
   "outputs": [
    {
     "name": "stdout",
     "output_type": "stream",
     "text": [
      "States (2, 24)\n",
      "Score (max over agents) from episode 1: 0.09000000171363354\n",
      "States (2, 24)\n",
      "Score (max over agents) from episode 2: 0.0\n",
      "States (2, 24)\n",
      "Score (max over agents) from episode 3: 0.0\n",
      "States (2, 24)\n",
      "Score (max over agents) from episode 4: 0.0\n",
      "States (2, 24)\n",
      "Score (max over agents) from episode 5: 0.0\n"
     ]
    }
   ],
   "source": [
    "for i in range(1, 6):                                      # play game for 5 episodes\n",
    "    env_info = env.reset(train_mode=False)[brain_name]     # reset the environment    \n",
    "    states = env_info.vector_observations                  # get the current state (for each agent)\n",
    "    print(\"States\", states.shape)\n",
    "    scores = np.zeros(num_agents)                          # initialize the score (for each agent)\n",
    "    while True:\n",
    "        actions = np.random.randn(num_agents, action_size) # select an action (for each agent)\n",
    "        actions = np.clip(actions, -1, 1)                  # all actions between -1 and 1\n",
    "        env_info = env.step(actions)[brain_name]           # send all actions to tne environment\n",
    "        next_states = env_info.vector_observations         # get next state (for each agent)\n",
    "        rewards = env_info.rewards                         # get reward (for each agent)\n",
    "        dones = env_info.local_done                        # see if episode finished\n",
    "        scores += env_info.rewards                         # update the score (for each agent)\n",
    "        states = next_states                               # roll over states to next time step\n",
    "        if np.any(dones):                                  # exit loop if episode finished\n",
    "            break\n",
    "    print('Score (max over agents) from episode {}: {}'.format(i, np.max(scores)))"
   ]
  },
  {
   "attachments": {},
   "cell_type": "markdown",
   "metadata": {},
   "source": [
    "When finished, you can close the environment."
   ]
  },
  {
   "cell_type": "code",
   "execution_count": 8,
   "metadata": {},
   "outputs": [],
   "source": [
    "# env.close()"
   ]
  },
  {
   "attachments": {},
   "cell_type": "markdown",
   "metadata": {},
   "source": [
    "### 4. It's Your Turn!\n",
    "\n",
    "Now it's your turn to train your own agent to solve the environment!  When training the environment, set `train_mode=True`, so that the line for resetting the environment looks like the following:\n",
    "```python\n",
    "env_info = env.reset(train_mode=True)[brain_name]\n",
    "```"
   ]
  },
  {
   "cell_type": "code",
   "execution_count": 7,
   "metadata": {},
   "outputs": [
    {
     "name": "stdout",
     "output_type": "stream",
     "text": [
      "brain name: TennisBrain\n",
      "brain: Unity brain name: TennisBrain\n",
      "        Number of Visual Observations (per agent): 0\n",
      "        Vector Observation space type: continuous\n",
      "        Vector Observation space size (per agent): 8\n",
      "        Number of stacked Vector Observation: 3\n",
      "        Vector Action space type: continuous\n",
      "        Vector Action space size (per agent): 2\n",
      "        Vector Action descriptions: , \n",
      "Number of agents: 2\n",
      "Size of each action: 2\n",
      "There are 2 agents. Each observes a state with length: 24\n",
      "The state for the first agent looks like: [ 0.          0.          0.          0.          0.          0.\n",
      "  0.          0.          0.          0.          0.          0.\n",
      "  0.          0.          0.          0.         -7.98782539 -1.5\n",
      " -0.          0.         -7.11741829  5.97645617 -0.          0.        ]\n",
      "===================== Actor Network =========================\n",
      "===================== Critic Network =========================\n",
      "===================== Actor Network =========================\n",
      "===================== Critic Network =========================\n"
     ]
    },
    {
     "name": "stderr",
     "output_type": "stream",
     "text": [
      "ERROR:wandb.jupyter:Failed to detect the name of this notebook, you can set it manually with the WANDB_NOTEBOOK_NAME environment variable to enable code saving.\n",
      "\u001b[34m\u001b[1mwandb\u001b[0m: Currently logged in as: \u001b[33mminhna1112\u001b[0m. Use \u001b[1m`wandb login --relogin`\u001b[0m to force relogin\n"
     ]
    },
    {
     "data": {
      "text/html": [
       "wandb version 0.16.0 is available!  To upgrade, please run:\n",
       " $ pip install wandb --upgrade"
      ],
      "text/plain": [
       "<IPython.core.display.HTML object>"
      ]
     },
     "metadata": {},
     "output_type": "display_data"
    },
    {
     "data": {
      "text/html": [
       "Tracking run with wandb version 0.14.0"
      ],
      "text/plain": [
       "<IPython.core.display.HTML object>"
      ]
     },
     "metadata": {},
     "output_type": "display_data"
    },
    {
     "data": {
      "text/html": [
       "Run data is saved locally in <code>/home/minhna4lab/minhna1112/study/RL/deep-reinforcement-learning/p3_collab-compet/wandb/run-20231126_180804-pjcbnwqp</code>"
      ],
      "text/plain": [
       "<IPython.core.display.HTML object>"
      ]
     },
     "metadata": {},
     "output_type": "display_data"
    },
    {
     "data": {
      "text/html": [
       "Syncing run <strong><a href='https://wandb.ai/minhna1112/tennis-maddpg/runs/pjcbnwqp' target=\"_blank\">olive-snowball-4</a></strong> to <a href='https://wandb.ai/minhna1112/tennis-maddpg' target=\"_blank\">Weights & Biases</a> (<a href='https://wandb.me/run' target=\"_blank\">docs</a>)<br/>"
      ],
      "text/plain": [
       "<IPython.core.display.HTML object>"
      ]
     },
     "metadata": {},
     "output_type": "display_data"
    },
    {
     "data": {
      "text/html": [
       " View project at <a href='https://wandb.ai/minhna1112/tennis-maddpg' target=\"_blank\">https://wandb.ai/minhna1112/tennis-maddpg</a>"
      ],
      "text/plain": [
       "<IPython.core.display.HTML object>"
      ]
     },
     "metadata": {},
     "output_type": "display_data"
    },
    {
     "data": {
      "text/html": [
       " View run at <a href='https://wandb.ai/minhna1112/tennis-maddpg/runs/pjcbnwqp' target=\"_blank\">https://wandb.ai/minhna1112/tennis-maddpg/runs/pjcbnwqp</a>"
      ],
      "text/plain": [
       "<IPython.core.display.HTML object>"
      ]
     },
     "metadata": {},
     "output_type": "display_data"
    },
    {
     "name": "stdout",
     "output_type": "stream",
     "text": [
      "Episodes 0000-0010\tMax Reward: 0.000\tMoving Average: 0.000\tNoise decay: 0.500\n",
      "Episodes 0010-0020\tMax Reward: 0.100\tMoving Average: 0.005\tNoise decay: 0.250\n",
      "Episodes 0020-0030\tMax Reward: 0.000\tMoving Average: 0.003\tNoise decay: 0.167\n",
      "Episodes 0030-0040\tMax Reward: 0.000\tMoving Average: 0.003\tNoise decay: 0.125\n",
      "Episodes 0040-0050\tMax Reward: 0.000\tMoving Average: 0.002\tNoise decay: 0.100\n",
      "Episodes 0050-0060\tMax Reward: 0.100\tMoving Average: 0.003\tNoise decay: 0.083\n",
      "Episodes 0060-0070\tMax Reward: 0.000\tMoving Average: 0.003\tNoise decay: 0.071\n",
      "Episodes 0070-0080\tMax Reward: 0.000\tMoving Average: 0.003\tNoise decay: 0.062\n",
      "Episodes 0080-0090\tMax Reward: 0.000\tMoving Average: 0.002\tNoise decay: 0.056\n",
      "Episodes 0090-0100\tMax Reward: 0.000\tMoving Average: 0.002\tNoise decay: 0.050\n",
      "Episodes 0100-0110\tMax Reward: 0.000\tMoving Average: 0.002\tNoise decay: 0.045\n",
      "Episodes 0110-0120\tMax Reward: 0.000\tMoving Average: 0.001\tNoise decay: 0.042\n",
      "Episodes 0120-0130\tMax Reward: 0.000\tMoving Average: 0.001\tNoise decay: 0.038\n",
      "Episodes 0130-0140\tMax Reward: 0.000\tMoving Average: 0.001\tNoise decay: 0.036\n",
      "Episodes 0140-0150\tMax Reward: 0.100\tMoving Average: 0.002\tNoise decay: 0.033\n",
      "Episodes 0150-0160\tMax Reward: 0.000\tMoving Average: 0.001\tNoise decay: 0.031\n",
      "Episodes 0160-0170\tMax Reward: 0.000\tMoving Average: 0.001\tNoise decay: 0.029\n",
      "Episodes 0170-0180\tMax Reward: 0.000\tMoving Average: 0.001\tNoise decay: 0.028\n",
      "Episodes 0180-0190\tMax Reward: 0.100\tMoving Average: 0.002\tNoise decay: 0.026\n",
      "Episodes 0190-0200\tMax Reward: 0.000\tMoving Average: 0.002\tNoise decay: 0.025\n",
      "Episodes 0200-0210\tMax Reward: 0.000\tMoving Average: 0.002\tNoise decay: 0.024\n",
      "Episodes 0210-0220\tMax Reward: 0.000\tMoving Average: 0.002\tNoise decay: 0.023\n",
      "Episodes 0220-0230\tMax Reward: 0.000\tMoving Average: 0.002\tNoise decay: 0.022\n",
      "Episodes 0230-0240\tMax Reward: 0.100\tMoving Average: 0.004\tNoise decay: 0.021\n",
      "Episodes 0240-0250\tMax Reward: 0.000\tMoving Average: 0.003\tNoise decay: 0.020\n",
      "Episodes 0250-0260\tMax Reward: 0.000\tMoving Average: 0.003\tNoise decay: 0.020\n",
      "Episodes 0260-0270\tMax Reward: 0.100\tMoving Average: 0.004\tNoise decay: 0.020\n",
      "Episodes 0270-0280\tMax Reward: 0.100\tMoving Average: 0.005\tNoise decay: 0.020\n",
      "Episodes 0280-0290\tMax Reward: 0.000\tMoving Average: 0.004\tNoise decay: 0.020\n",
      "Episodes 0290-0300\tMax Reward: 0.000\tMoving Average: 0.004\tNoise decay: 0.020\n",
      "Episodes 0300-0310\tMax Reward: 0.100\tMoving Average: 0.005\tNoise decay: 0.020\n",
      "Episodes 0310-0320\tMax Reward: 0.000\tMoving Average: 0.005\tNoise decay: 0.020\n",
      "Episodes 0320-0330\tMax Reward: 0.000\tMoving Average: 0.005\tNoise decay: 0.020\n",
      "Episodes 0330-0340\tMax Reward: 0.090\tMoving Average: 0.004\tNoise decay: 0.020\n",
      "Episodes 0340-0350\tMax Reward: 0.100\tMoving Average: 0.008\tNoise decay: 0.020\n",
      "Episodes 0350-0360\tMax Reward: 0.100\tMoving Average: 0.010\tNoise decay: 0.020\n",
      "Episodes 0360-0370\tMax Reward: 0.100\tMoving Average: 0.010\tNoise decay: 0.020\n",
      "Episodes 0370-0380\tMax Reward: 0.100\tMoving Average: 0.013\tNoise decay: 0.020\n",
      "Episodes 0380-0390\tMax Reward: 0.000\tMoving Average: 0.013\tNoise decay: 0.020\n",
      "Episodes 0390-0400\tMax Reward: 0.000\tMoving Average: 0.013\tNoise decay: 0.020\n",
      "Episodes 0400-0410\tMax Reward: 0.000\tMoving Average: 0.012\tNoise decay: 0.020\n",
      "Episodes 0410-0420\tMax Reward: 0.000\tMoving Average: 0.012\tNoise decay: 0.020\n",
      "Episodes 0420-0430\tMax Reward: 0.000\tMoving Average: 0.012\tNoise decay: 0.020\n",
      "Episodes 0430-0440\tMax Reward: 0.100\tMoving Average: 0.012\tNoise decay: 0.020\n",
      "Episodes 0440-0450\tMax Reward: 0.000\tMoving Average: 0.008\tNoise decay: 0.020\n",
      "Episodes 0450-0460\tMax Reward: 0.000\tMoving Average: 0.006\tNoise decay: 0.020\n",
      "Episodes 0460-0470\tMax Reward: 0.000\tMoving Average: 0.005\tNoise decay: 0.020\n",
      "Episodes 0470-0480\tMax Reward: 0.000\tMoving Average: 0.001\tNoise decay: 0.020\n",
      "Episodes 0480-0490\tMax Reward: 0.000\tMoving Average: 0.001\tNoise decay: 0.020\n",
      "Episodes 0490-0500\tMax Reward: 0.000\tMoving Average: 0.001\tNoise decay: 0.020\n",
      "Episodes 0500-0510\tMax Reward: 0.100\tMoving Average: 0.003\tNoise decay: 0.020\n",
      "Episodes 0510-0520\tMax Reward: 0.100\tMoving Average: 0.005\tNoise decay: 0.020\n",
      "Episodes 0520-0530\tMax Reward: 0.000\tMoving Average: 0.005\tNoise decay: 0.020\n",
      "Episodes 0530-0540\tMax Reward: 0.100\tMoving Average: 0.005\tNoise decay: 0.020\n",
      "Episodes 0540-0550\tMax Reward: 0.100\tMoving Average: 0.007\tNoise decay: 0.020\n",
      "Episodes 0550-0560\tMax Reward: 0.100\tMoving Average: 0.010\tNoise decay: 0.020\n",
      "Episodes 0560-0570\tMax Reward: 0.100\tMoving Average: 0.013\tNoise decay: 0.020\n",
      "Episodes 0570-0580\tMax Reward: 0.090\tMoving Average: 0.014\tNoise decay: 0.020\n",
      "Episodes 0580-0590\tMax Reward: 0.090\tMoving Average: 0.015\tNoise decay: 0.020\n",
      "Episodes 0590-0600\tMax Reward: 0.100\tMoving Average: 0.019\tNoise decay: 0.020\n",
      "Episodes 0600-0610\tMax Reward: 0.000\tMoving Average: 0.017\tNoise decay: 0.020\n",
      "Episodes 0610-0620\tMax Reward: 0.100\tMoving Average: 0.018\tNoise decay: 0.020\n",
      "Episodes 0620-0630\tMax Reward: 0.090\tMoving Average: 0.022\tNoise decay: 0.020\n",
      "Episodes 0630-0640\tMax Reward: 0.100\tMoving Average: 0.026\tNoise decay: 0.020\n",
      "Episodes 0640-0650\tMax Reward: 0.100\tMoving Average: 0.033\tNoise decay: 0.020\n",
      "Episodes 0650-0660\tMax Reward: 0.100\tMoving Average: 0.035\tNoise decay: 0.020\n",
      "Episodes 0660-0670\tMax Reward: 0.100\tMoving Average: 0.038\tNoise decay: 0.020\n",
      "Episodes 0670-0680\tMax Reward: 0.100\tMoving Average: 0.040\tNoise decay: 0.020\n",
      "Episodes 0680-0690\tMax Reward: 0.100\tMoving Average: 0.041\tNoise decay: 0.020\n",
      "Episodes 0690-0700\tMax Reward: 0.090\tMoving Average: 0.040\tNoise decay: 0.020\n",
      "Episodes 0700-0710\tMax Reward: 0.100\tMoving Average: 0.045\tNoise decay: 0.020\n",
      "Episodes 0710-0720\tMax Reward: 0.200\tMoving Average: 0.048\tNoise decay: 0.020\n",
      "Episodes 0720-0730\tMax Reward: 0.100\tMoving Average: 0.052\tNoise decay: 0.020\n",
      "Episodes 0730-0740\tMax Reward: 0.290\tMoving Average: 0.052\tNoise decay: 0.020\n",
      "Episodes 0740-0750\tMax Reward: 0.100\tMoving Average: 0.044\tNoise decay: 0.020\n",
      "Episodes 0750-0760\tMax Reward: 0.090\tMoving Average: 0.040\tNoise decay: 0.020\n",
      "Episodes 0760-0770\tMax Reward: 0.000\tMoving Average: 0.034\tNoise decay: 0.020\n",
      "Episodes 0770-0780\tMax Reward: 0.000\tMoving Average: 0.031\tNoise decay: 0.020\n",
      "Episodes 0780-0790\tMax Reward: 0.100\tMoving Average: 0.032\tNoise decay: 0.020\n",
      "Episodes 0790-0800\tMax Reward: 0.000\tMoving Average: 0.029\tNoise decay: 0.020\n",
      "Episodes 0800-0810\tMax Reward: 0.100\tMoving Average: 0.028\tNoise decay: 0.020\n",
      "Episodes 0810-0820\tMax Reward: 0.100\tMoving Average: 0.029\tNoise decay: 0.020\n",
      "Episodes 0820-0830\tMax Reward: 0.100\tMoving Average: 0.030\tNoise decay: 0.020\n",
      "Episodes 0830-0840\tMax Reward: 0.100\tMoving Average: 0.032\tNoise decay: 0.020\n",
      "Episodes 0840-0850\tMax Reward: 0.200\tMoving Average: 0.038\tNoise decay: 0.020\n",
      "Episodes 0850-0860\tMax Reward: 0.100\tMoving Average: 0.041\tNoise decay: 0.020\n",
      "Episodes 0860-0870\tMax Reward: 0.100\tMoving Average: 0.049\tNoise decay: 0.020\n",
      "Episodes 0870-0880\tMax Reward: 0.100\tMoving Average: 0.057\tNoise decay: 0.020\n",
      "Episodes 0880-0890\tMax Reward: 0.100\tMoving Average: 0.063\tNoise decay: 0.020\n",
      "Episodes 0890-0900\tMax Reward: 0.100\tMoving Average: 0.067\tNoise decay: 0.020\n",
      "Episodes 0900-0910\tMax Reward: 0.100\tMoving Average: 0.069\tNoise decay: 0.020\n",
      "Episodes 0910-0920\tMax Reward: 0.100\tMoving Average: 0.069\tNoise decay: 0.020\n",
      "Episodes 0920-0930\tMax Reward: 0.100\tMoving Average: 0.068\tNoise decay: 0.020\n",
      "Episodes 0930-0940\tMax Reward: 0.100\tMoving Average: 0.071\tNoise decay: 0.020\n",
      "Episodes 0940-0950\tMax Reward: 0.100\tMoving Average: 0.070\tNoise decay: 0.020\n",
      "Episodes 0950-0960\tMax Reward: 0.100\tMoving Average: 0.074\tNoise decay: 0.020\n",
      "Episodes 0960-0970\tMax Reward: 0.100\tMoving Average: 0.071\tNoise decay: 0.020\n",
      "Episodes 0970-0980\tMax Reward: 0.100\tMoving Average: 0.068\tNoise decay: 0.020\n",
      "Episodes 0980-0990\tMax Reward: 0.100\tMoving Average: 0.064\tNoise decay: 0.020\n",
      "Episodes 0990-1000\tMax Reward: 0.100\tMoving Average: 0.062\tNoise decay: 0.020\n",
      "Episodes 1000-1010\tMax Reward: 0.100\tMoving Average: 0.059\tNoise decay: 0.020\n",
      "Episodes 1010-1020\tMax Reward: 0.100\tMoving Average: 0.054\tNoise decay: 0.020\n",
      "Episodes 1020-1030\tMax Reward: 0.100\tMoving Average: 0.049\tNoise decay: 0.020\n",
      "Episodes 1030-1040\tMax Reward: 0.100\tMoving Average: 0.042\tNoise decay: 0.020\n",
      "Episodes 1040-1050\tMax Reward: 0.100\tMoving Average: 0.039\tNoise decay: 0.020\n",
      "Episodes 1050-1060\tMax Reward: 0.100\tMoving Average: 0.034\tNoise decay: 0.020\n",
      "Episodes 1060-1070\tMax Reward: 0.100\tMoving Average: 0.036\tNoise decay: 0.020\n",
      "Episodes 1070-1080\tMax Reward: 0.100\tMoving Average: 0.040\tNoise decay: 0.020\n",
      "Episodes 1080-1090\tMax Reward: 0.100\tMoving Average: 0.043\tNoise decay: 0.020\n",
      "Episodes 1090-1100\tMax Reward: 0.100\tMoving Average: 0.050\tNoise decay: 0.020\n",
      "Episodes 1100-1110\tMax Reward: 0.100\tMoving Average: 0.056\tNoise decay: 0.020\n",
      "Episodes 1110-1120\tMax Reward: 0.100\tMoving Average: 0.059\tNoise decay: 0.020\n",
      "Episodes 1120-1130\tMax Reward: 0.200\tMoving Average: 0.069\tNoise decay: 0.020\n",
      "Episodes 1130-1140\tMax Reward: 0.200\tMoving Average: 0.075\tNoise decay: 0.020\n",
      "Episodes 1140-1150\tMax Reward: 0.100\tMoving Average: 0.081\tNoise decay: 0.020\n",
      "Episodes 1150-1160\tMax Reward: 0.100\tMoving Average: 0.082\tNoise decay: 0.020\n",
      "Episodes 1160-1170\tMax Reward: 0.100\tMoving Average: 0.084\tNoise decay: 0.020\n",
      "Episodes 1170-1180\tMax Reward: 0.100\tMoving Average: 0.084\tNoise decay: 0.020\n",
      "Episodes 1180-1190\tMax Reward: 0.200\tMoving Average: 0.086\tNoise decay: 0.020\n",
      "Episodes 1190-1200\tMax Reward: 0.300\tMoving Average: 0.092\tNoise decay: 0.020\n",
      "Episodes 1200-1210\tMax Reward: 0.400\tMoving Average: 0.100\tNoise decay: 0.020\n",
      "Episodes 1210-1220\tMax Reward: 0.100\tMoving Average: 0.103\tNoise decay: 0.020\n",
      "Episodes 1220-1230\tMax Reward: 0.100\tMoving Average: 0.100\tNoise decay: 0.020\n",
      "Episodes 1230-1240\tMax Reward: 0.200\tMoving Average: 0.103\tNoise decay: 0.020\n",
      "Episodes 1240-1250\tMax Reward: 0.200\tMoving Average: 0.105\tNoise decay: 0.020\n",
      "Episodes 1250-1260\tMax Reward: 0.300\tMoving Average: 0.114\tNoise decay: 0.020\n",
      "Episodes 1260-1270\tMax Reward: 0.300\tMoving Average: 0.117\tNoise decay: 0.020\n",
      "Episodes 1270-1280\tMax Reward: 0.200\tMoving Average: 0.118\tNoise decay: 0.020\n",
      "Episodes 1280-1290\tMax Reward: 0.500\tMoving Average: 0.126\tNoise decay: 0.020\n",
      "Episodes 1290-1300\tMax Reward: 0.100\tMoving Average: 0.121\tNoise decay: 0.020\n",
      "Episodes 1300-1310\tMax Reward: 0.400\tMoving Average: 0.117\tNoise decay: 0.020\n",
      "Episodes 1310-1320\tMax Reward: 0.500\tMoving Average: 0.124\tNoise decay: 0.020\n",
      "Episodes 1320-1330\tMax Reward: 0.400\tMoving Average: 0.130\tNoise decay: 0.020\n",
      "Episodes 1330-1340\tMax Reward: 0.300\tMoving Average: 0.132\tNoise decay: 0.020\n",
      "Episodes 1340-1350\tMax Reward: 0.600\tMoving Average: 0.149\tNoise decay: 0.020\n",
      "Episodes 1350-1360\tMax Reward: 0.400\tMoving Average: 0.155\tNoise decay: 0.020\n",
      "Episodes 1360-1370\tMax Reward: 0.300\tMoving Average: 0.157\tNoise decay: 0.020\n",
      "Episodes 1370-1380\tMax Reward: 0.100\tMoving Average: 0.156\tNoise decay: 0.020\n",
      "Episodes 1380-1390\tMax Reward: 1.000\tMoving Average: 0.167\tNoise decay: 0.020\n",
      "Episodes 1390-1400\tMax Reward: 2.600\tMoving Average: 0.240\tNoise decay: 0.020\n",
      "Episodes 1400-1410\tMax Reward: 1.900\tMoving Average: 0.254\tNoise decay: 0.020\n",
      "Episodes 1410-1420\tMax Reward: 0.300\tMoving Average: 0.253\tNoise decay: 0.020\n",
      "Episodes 1420-1430\tMax Reward: 2.600\tMoving Average: 0.335\tNoise decay: 0.020\n",
      "Episodes 1430-1440\tMax Reward: 0.600\tMoving Average: 0.346\tNoise decay: 0.020\n",
      "Episodes 1440-1450\tMax Reward: 0.700\tMoving Average: 0.352\tNoise decay: 0.020\n",
      "Episodes 1450-1460\tMax Reward: 0.200\tMoving Average: 0.346\tNoise decay: 0.020\n",
      "Episodes 1460-1470\tMax Reward: 0.200\tMoving Average: 0.344\tNoise decay: 0.020\n",
      "Episodes 1470-1480\tMax Reward: 0.400\tMoving Average: 0.350\tNoise decay: 0.020\n",
      "Episodes 1480-1490\tMax Reward: 0.300\tMoving Average: 0.335\tNoise decay: 0.020\n",
      "Episodes 1490-1500\tMax Reward: 0.300\tMoving Average: 0.274\tNoise decay: 0.020\n",
      "Episodes 1500-1510\tMax Reward: 0.200\tMoving Average: 0.257\tNoise decay: 0.020\n",
      "Episodes 1510-1520\tMax Reward: 0.400\tMoving Average: 0.262\tNoise decay: 0.020\n",
      "Episodes 1520-1530\tMax Reward: 0.600\tMoving Average: 0.183\tNoise decay: 0.020\n",
      "Episodes 1530-1540\tMax Reward: 0.800\tMoving Average: 0.185\tNoise decay: 0.020\n",
      "Episodes 1540-1550\tMax Reward: 2.600\tMoving Average: 0.259\tNoise decay: 0.020\n",
      "Episodes 1550-1560\tMax Reward: 2.700\tMoving Average: 0.442\tNoise decay: 0.020\n",
      "Episodes 1560-1570\tMax Reward: 2.100\tMoving Average: 0.480\tNoise decay: 0.020\n",
      "Episode 1575\tMax Reward: 2.600\tMoving Average: 0.512\n"
     ]
    },
    {
     "data": {
      "text/html": [
       "Waiting for W&B process to finish... <strong style=\"color:green\">(success).</strong>"
      ],
      "text/plain": [
       "<IPython.core.display.HTML object>"
      ]
     },
     "metadata": {},
     "output_type": "display_data"
    },
    {
     "data": {
      "application/vnd.jupyter.widget-view+json": {
       "model_id": "270ca03dfb9c466d969fd5a095dfc033",
       "version_major": 2,
       "version_minor": 0
      },
      "text/plain": [
       "VBox(children=(Label(value='0.003 MB of 0.003 MB uploaded (0.000 MB deduped)\\r'), FloatProgress(value=1.0, max…"
      ]
     },
     "metadata": {},
     "output_type": "display_data"
    },
    {
     "data": {
      "text/html": [
       "<style>\n",
       "    table.wandb td:nth-child(1) { padding: 0 10px; text-align: left ; width: auto;} td:nth-child(2) {text-align: left ; width: 100%}\n",
       "    .wandb-row { display: flex; flex-direction: row; flex-wrap: wrap; justify-content: flex-start; width: 100% }\n",
       "    .wandb-col { display: flex; flex-direction: column; flex-basis: 100%; flex: 1; padding: 10px; }\n",
       "    </style>\n",
       "<div class=\"wandb-row\"><div class=\"wandb-col\"><h3>Run history:</h3><br/><table class=\"wandb\"><tr><td>Episode</td><td>▁▁▁▂▂▂▂▂▂▃▃▃▃▃▃▄▄▄▄▄▅▅▅▅▅▅▆▆▆▆▆▇▇▇▇▇▇███</td></tr><tr><td>Max Reward</td><td>▁▁▁▁▁▁▁▁▁▁▁▁▁▁▁▁▁▁▂▁▁▂▁▂▁▁▁▂▁▂▂▁▂▂▃▂▂▃▂█</td></tr><tr><td>Moving Average</td><td>▁▁▁▁▁▁▁▁▁▁▁▁▁▁▁▁▁▂▂▁▁▂▂▂▂▂▂▂▂▂▂▃▃▃▃▅▆▆▅█</td></tr><tr><td>agent_0_actor_loss</td><td>███▇▇▇▇▇▇▇▇▇▇▆▆▆▆▅▅▅▅▅▄▄▃▄▃▃▃▃▃▃▂▂▃▂▁▁▂▁</td></tr><tr><td>agent_0_critic_loss</td><td>▁▁▁▂▁▁▂▂▃▃▃▄▄▄▄▄▆▅▆█▄▄▅█▅▄▅▅▃▆▆▄▆▅▇▆▆▅▆▆</td></tr><tr><td>agent_1_actor_loss</td><td>███████▇▇▇▇▇▇▇▆▆▆▆▅▅▅▅▅▄▄▄▃▃▃▃▃▃▂▃▂▂▂▂▁▁</td></tr><tr><td>agent_1_critic_loss</td><td>▁▁▁▁▁▁▄▁▁▁▂▁▂▃▃▂▃▄▅▃▄▄▆▅▄▅▅▄▅▅█▅▇▆▄▅▃▆▃▅</td></tr><tr><td>iteration</td><td>▁▁▁▂▂▂▂▂▂▃▃▃▃▃▃▄▄▄▄▄▅▅▅▅▅▅▆▆▆▆▆▆▇▇▇▇▇███</td></tr></table><br/></div><div class=\"wandb-col\"><h3>Run summary:</h3><br/><table class=\"wandb\"><tr><td>Episode</td><td>1575</td></tr><tr><td>Max Reward</td><td>2.6</td></tr><tr><td>Moving Average</td><td>0.5124</td></tr><tr><td>agent_0_actor_loss</td><td>-0.05576</td></tr><tr><td>agent_0_critic_loss</td><td>0.00503</td></tr><tr><td>agent_1_actor_loss</td><td>-0.05635</td></tr><tr><td>agent_1_critic_loss</td><td>0.01043</td></tr><tr><td>iteration</td><td>68331</td></tr></table><br/></div></div>"
      ],
      "text/plain": [
       "<IPython.core.display.HTML object>"
      ]
     },
     "metadata": {},
     "output_type": "display_data"
    },
    {
     "data": {
      "text/html": [
       " View run <strong style=\"color:#cdcd00\">olive-snowball-4</strong> at: <a href='https://wandb.ai/minhna1112/tennis-maddpg/runs/pjcbnwqp' target=\"_blank\">https://wandb.ai/minhna1112/tennis-maddpg/runs/pjcbnwqp</a><br/>Synced 6 W&B file(s), 0 media file(s), 0 artifact file(s) and 0 other file(s)"
      ],
      "text/plain": [
       "<IPython.core.display.HTML object>"
      ]
     },
     "metadata": {},
     "output_type": "display_data"
    },
    {
     "data": {
      "text/html": [
       "Find logs at: <code>./wandb/run-20231126_180804-pjcbnwqp/logs</code>"
      ],
      "text/plain": [
       "<IPython.core.display.HTML object>"
      ]
     },
     "metadata": {},
     "output_type": "display_data"
    }
   ],
   "source": [
    "# main function that sets up environments\n",
    "# perform training loop\n",
    "\n",
    "import os\n",
    "import random\n",
    "from collections import deque\n",
    "\n",
    "import torch\n",
    "import numpy as np\n",
    "import wandb  # Import wandb\n",
    "\n",
    "from utils import Config, ReplayBuffer\n",
    "from agents import MADDPG \n",
    "from load_env import env_vars\n",
    "# env = UnityEnvironment(file_name=\"./Tennis_Linux_NoVis/Tennis.x86_64\")\n",
    "# get the default brain\n",
    "brain_name = env.brain_names[0]\n",
    "brain = env.brains[brain_name]\n",
    "print(\"brain name:\", brain_name)\n",
    "print(\"brain:\", brain)\n",
    "\n",
    "# reset the environment\n",
    "env_info = env.reset(train_mode=True)[brain_name]\n",
    "\n",
    "# number of agents \n",
    "num_agents = len(env_info.agents)\n",
    "print('Number of agents:', num_agents)\n",
    "\n",
    "# size of each action\n",
    "action_size = brain.vector_action_space_size\n",
    "print('Size of each action:', action_size)\n",
    "\n",
    "# examine the state space \n",
    "states = env_info.vector_observations\n",
    "state_size = states.shape[1]\n",
    "print('There are {} agents. Each observes a state with length: {}'.format(states.shape[0], state_size))\n",
    "print('The state for the first agent looks like:', states[0])\n",
    "\n",
    "LEARN_NUM = 5 # number of learning passes\n",
    "\n",
    "\n",
    "n_episodes=2000\n",
    "max_t=10000\n",
    "\n",
    "configs = Config()\n",
    "maddpg = MADDPG(configs)\n",
    "memory = ReplayBuffer(configs)\n",
    "scores_window = deque(maxlen=100)\n",
    "scores_all = []\n",
    "moving_average = []\n",
    "best_score = -np.inf\n",
    "PRINT_EVERY = 10\n",
    "SOLVED_SCORE = 0.5\n",
    "\n",
    "# Initialize wandb run\n",
    "wandb.init(project=env_vars.WANDB_PROJECT_NAME, \n",
    "           entity=env_vars.WANDB_USER_NAME)  # Replace 'your_username' with your wandb username\n",
    "\n",
    "model_dir= os.getcwd()+\"/checkpoints\"\n",
    "os.makedirs(model_dir, exist_ok=True)\n",
    "START_NOISE_DECAY = 5.\n",
    "noise_decay = START_NOISE_DECAY\n",
    "\n",
    "for i_episode in range(1, n_episodes+1):\n",
    "\n",
    "    env_info = env.reset(train_mode=True)[brain_name]         \n",
    "    maddpg.reset()\n",
    "    states = env_info.vector_observations          \n",
    "    states = np.reshape(states,(1,num_agents*state_size))\n",
    "    scores = np.zeros(num_agents) \n",
    "\n",
    "    for episode_t in range(max_t):\n",
    "        actions = maddpg.act(states, add_noise=True, noise_decay=noise_decay)\n",
    "        env_info = env.step(actions)[brain_name]         \n",
    "        next_states = env_info.vector_observations        \n",
    "        next_states = np.reshape(next_states,(1, num_agents*state_size))\n",
    "        rewards = env_info.rewards                       \n",
    "        dones = env_info.local_done                      \n",
    "        actions = np.expand_dims(actions,axis=0)\n",
    "        memory.add(states, actions, rewards, next_states, dones)\n",
    "        if len(memory) > configs.BATCH_SIZE:\n",
    "            for a_i in range(num_agents):\n",
    "                samples = memory.sample()\n",
    "                maddpg.update(a_i, samples, None)  # Removed logger from update function\n",
    "            maddpg.iter += 1\n",
    "\n",
    "        scores += rewards                        \n",
    "        states = next_states                             \n",
    "        if np.any(dones):                                 \n",
    "            break\n",
    "    \n",
    "    ep_best_score = np.max(scores)\n",
    "    scores_window.append(ep_best_score)\n",
    "    scores_all.append(ep_best_score)\n",
    "    moving_average.append(np.mean(scores_window))\n",
    "\n",
    "    # save best score                        \n",
    "    if ep_best_score > best_score:\n",
    "        best_score = ep_best_score\n",
    "    \n",
    "    # Logging with wandb\n",
    "    wandb.log({'Episode': i_episode, 'Max Reward': np.max(scores), 'Moving Average': moving_average[-1]})\n",
    "\n",
    "    if i_episode % PRINT_EVERY == 0:\n",
    "        print('Episodes {:0>4d}-{:0>4d}\\tMax Reward: {:.3f}\\tMoving Average: {:.3f}\\tNoise decay: {:.3f}'.format(\n",
    "            i_episode-PRINT_EVERY, i_episode, np.max(scores_all[-PRINT_EVERY:]), moving_average[-1], noise_decay))\n",
    "\n",
    "    # determine if environment is solved and keep best performing models\n",
    "    if moving_average[-1] >= SOLVED_SCORE:\n",
    "        #saving model\n",
    "        print('Episode {:0>4d}\\tMax Reward: {:.3f}\\tMoving Average: {:.3f}'.format(\n",
    "            i_episode, ep_best_score, moving_average[-1]))\n",
    "        save_dict_list =[]\n",
    "        for i in range(num_agents):\n",
    "            save_dict = {'actor_params' : maddpg.maddpg_agent[i].actor_local.state_dict(),\n",
    "                            'actor_optim_params': maddpg.maddpg_agent[i].actor_optimizer.state_dict(),\n",
    "                            'critic_params' : maddpg.maddpg_agent[i].critic_local.state_dict(),\n",
    "                            'critic_optim_params' : maddpg.maddpg_agent[i].critic_optimizer.state_dict()}\n",
    "            save_dict_list.append(save_dict)\n",
    "            torch.save(save_dict_list, \n",
    "                        os.path.join(model_dir, 'episode-{}.pt'.format(i_episode)))\n",
    "        break\n",
    "\n",
    "    if noise_decay > 0.020:\n",
    "        noise_decay = START_NOISE_DECAY / (1. + i_episode)\n",
    "\n",
    "wandb.finish()  # Close the wandb run\n",
    "\n"
   ]
  },
  {
   "cell_type": "code",
   "execution_count": null,
   "metadata": {},
   "outputs": [],
   "source": [
    "env.close()\n"
   ]
  },
  {
   "cell_type": "code",
   "execution_count": 9,
   "metadata": {},
   "outputs": [
    {
     "data": {
      "image/png": "[encoded data removed]",
      "text/plain": [
       "<Figure size 1000x400 with 1 Axes>"
      ]
     },
     "metadata": {},
     "output_type": "display_data"
    }
   ],
   "source": [
    "import matplotlib.pyplot as plt\n",
    "fig = plt.figure(figsize=(10,4))\n",
    "ax = fig.add_subplot(111)\n",
    "plt.plot(np.arange(1, len(scores_all)+1), scores_all, label='Scores')\n",
    "plt.plot(np.arange(1, len(moving_average)+1), moving_average, c='r', label='Average')\n",
    "plt.ylabel('Score')\n",
    "plt.xlabel('Episode #')\n",
    "ax.legend(fontsize='large', loc='upper left')\n",
    "fig.savefig('assets/result.png')\n",
    "plt.show()"
   ]
  },
  {
   "attachments": {},
   "cell_type": "markdown",
   "metadata": {},
   "source": [
    "More details about the metrics logged during training could be found [here](https://api.wandb.ai/links/minhna1112/fe4lxm3s)"
   ]
  },
  {
   "cell_type": "code",
   "execution_count": null,
   "metadata": {},
   "outputs": [],
   "source": []
  }
 ],
 "metadata": {
  "kernelspec": {
   "display_name": "Python 3",
   "language": "python",
   "name": "python3"
  },
  "language_info": {
   "codemirror_mode": {
    "name": "ipython",
    "version": 3
   },
   "file_extension": ".py",
   "mimetype": "text/x-python",
   "name": "python",
   "nbconvert_exporter": "python",
   "pygments_lexer": "ipython3",
   "version": "3.9.16"
  }
 },
 "nbformat": 4,
 "nbformat_minor": 2
}
